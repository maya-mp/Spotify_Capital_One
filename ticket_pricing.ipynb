{
 "cells": [
  {
   "cell_type": "code",
   "execution_count": 16,
   "metadata": {},
   "outputs": [
    {
     "name": "stdout",
     "output_type": "stream",
     "text": [
      "       Section  Min Seats  Max Seats  Wizards  Theater resale  Deftones  \\\n",
      "0  Section 100      298.8      365.2    487.0           432.0     250.0   \n",
      "1  Section 101      298.8      365.2    422.0           432.0     220.0   \n",
      "2  Section 102      298.8      365.2    363.0           305.0     200.0   \n",
      "3  Section 103      298.8      365.2    334.0           305.0     235.0   \n",
      "4  Section 104      298.8      365.2    280.0           299.0     175.0   \n",
      "\n",
      "   Wizards 2  Capitals  \n",
      "0      120.0     612.0  \n",
      "1       91.0     612.0  \n",
      "2       50.0     695.0  \n",
      "3       30.0     545.0  \n",
      "4       30.0     565.0  \n"
     ]
    }
   ],
   "source": [
    "import pandas as pd\n",
    "import numpy as np\n",
    "\n",
    "df = pd.read_csv(\"capital_one_seating_price - attempt2.csv\") \n",
    "print(df.head(5))"
   ]
  },
  {
   "cell_type": "code",
   "execution_count": 17,
   "metadata": {},
   "outputs": [
    {
     "name": "stdout",
     "output_type": "stream",
     "text": [
      "Min seats: 20301.8\n",
      "Max seats: 25970.699999999997\n",
      "Since the max seating is closer to 21K, we know the min seat estimate is more accurate for our purposes.\n"
     ]
    }
   ],
   "source": [
    "#Finding Min and Max Ticket Capacity in Arena According to df \n",
    "print(f'Min seats: {df[\"Min Seats\"].values.sum()}')\n",
    "print(f'Max seats: {df[\"Max Seats\"].values.sum()}')\n",
    "print(\"Since the max seating is closer to 21K, we know the min seat estimate is more accurate for our purposes.\")"
   ]
  },
  {
   "cell_type": "code",
   "execution_count": 18,
   "metadata": {},
   "outputs": [
    {
     "name": "stdout",
     "output_type": "stream",
     "text": [
      "Section 100 Total Seats: 6573.6\n",
      "Section 200 Total Seats: 3735.0\n",
      "Section 400 Total Seats: 6772.799999999999\n",
      "Floor Total Seats: 1494.0\n",
      "Suite Total Seats: 1726.4\n",
      "  - Lower Level Suite: 581.0\n",
      "  - Kettler Loft Suite: 896.4000000000001\n",
      "  - Lexus Level Suite: 249.00000000000003\n",
      "\n",
      "Estimated Total Seats: 20301.800000000003\n"
     ]
    }
   ],
   "source": [
    "# Seats per section\n",
    "section_100_seats = []\n",
    "section_200_seats = []\n",
    "section_400_seats = []\n",
    "floor_seats = []\n",
    "suite_seats_lower = []\n",
    "suite_seats_kettler = []\n",
    "suite_seats_lexus = []\n",
    "\n",
    "for index, row in df.iterrows():\n",
    "    section = row[\"Section\"]\n",
    "    seat_count = row[\"Min Seats\"]\n",
    "\n",
    "    if section.startswith(\"Section\"):\n",
    "        # Extract the section number (e.g., \"Section 104\" -> 104)\n",
    "        try:\n",
    "            section_number = int(section.split(\" \")[1])\n",
    "        except (IndexError, ValueError):\n",
    "            continue\n",
    "\n",
    "        if 100 <= section_number < 200:\n",
    "            section_100_seats.append(seat_count)\n",
    "        elif 200 <= section_number < 300:\n",
    "            section_200_seats.append(seat_count)\n",
    "        elif 400 <= section_number < 500:\n",
    "            section_400_seats.append(seat_count)\n",
    "\n",
    "    elif section.startswith(\"Floor\"):\n",
    "        floor_seats.append(seat_count)\n",
    "\n",
    "    elif section == \"Lower Level Suite\":\n",
    "        suite_seats_lower.append(seat_count)\n",
    "    elif section == \"Kettler Loft\":\n",
    "        suite_seats_kettler.append(seat_count)\n",
    "    elif section == \"Lexus Level\":\n",
    "        suite_seats_lexus.append(seat_count)\n",
    "\n",
    "# Combine all suite seats\n",
    "suite_total = suite_seats_lower + suite_seats_kettler + suite_seats_lexus\n",
    "\n",
    "# Print results\n",
    "print(f'Section 100 Total Seats: {sum(section_100_seats)}')\n",
    "print(f'Section 200 Total Seats: {sum(section_200_seats)}')\n",
    "print(f'Section 400 Total Seats: {sum(section_400_seats)}')\n",
    "print(f'Floor Total Seats: {sum(floor_seats)}')\n",
    "print(f'Suite Total Seats: {sum(suite_total)}')\n",
    "print(f'  - Lower Level Suite: {sum(suite_seats_lower)}')\n",
    "print(f'  - Kettler Loft Suite: {sum(suite_seats_kettler)}')\n",
    "print(f'  - Lexus Level Suite: {sum(suite_seats_lexus)}')\n",
    "\n",
    "print(f'\\nEstimated Total Seats: {sum(section_100_seats) + sum(section_200_seats) + sum(section_400_seats) + sum(floor_seats) + sum(suite_total)}')\n"
   ]
  },
  {
   "cell_type": "code",
   "execution_count": 19,
   "metadata": {},
   "outputs": [],
   "source": [
    "def label_section_type(section):\n",
    "    if section.startswith(\"Section\"):\n",
    "        return \"bowl\"\n",
    "    elif section.startswith(\"Floor\"):\n",
    "        return \"floor\"\n",
    "    elif section in [\"Lower Level Suite\", \"Kettler Loft\", \"Lexus Level\"]:\n",
    "        return \"suite\"\n",
    "    else:\n",
    "        return \"other\"\n",
    "\n",
    "df['Section Type'] = df['Section'].apply(label_section_type)"
   ]
  },
  {
   "cell_type": "code",
   "execution_count": 20,
   "metadata": {},
   "outputs": [],
   "source": [
    "event_columns = ['Wizards', 'Theater resale', 'Deftones', 'Wizards 2', 'Capitals']\n",
    "df[event_columns] = df[event_columns].apply(pd.to_numeric, errors='coerce')\n",
    "df['Section Avg'] = df[event_columns].mean(axis=1)\n",
    "\n",
    "# Compute new overall average using only bowl & floor\n",
    "filtered_df = df[df['Section Type'].isin(['bowl', 'floor'])]\n",
    "overall_avg_filtered = filtered_df['Section Avg'].mean()\n",
    "\n",
    "# Calculate multiplier using that filtered average\n",
    "df['Multiplier'] = df['Section Avg'] / overall_avg_filtered"
   ]
  },
  {
   "cell_type": "code",
   "execution_count": 21,
   "metadata": {},
   "outputs": [
    {
     "name": "stdout",
     "output_type": "stream",
     "text": [
      "\n",
      "Dynamic Pricing by Section:\n",
      "         Section  Multiplier  DynamicPrice\n",
      "0    Section 100    1.452603        209.17\n",
      "1    Section 101    1.357852        195.53\n",
      "2    Section 102    1.232535        177.49\n",
      "3    Section 103    1.107218        159.44\n",
      "4    Section 104    1.030806        148.44\n",
      "..           ...         ...           ...\n",
      "195  Lexus Level    0.955157        137.54\n",
      "196  Lexus Level    0.955157        137.54\n",
      "197  Lexus Level    0.955157        137.54\n",
      "198  Lexus Level    0.955157        137.54\n",
      "199  Lexus Level    0.955157        137.54\n",
      "\n",
      "[200 rows x 3 columns]\n",
      "\n",
      "Saved to dynamic_prices_$144.csv\n"
     ]
    }
   ],
   "source": [
    "#creates pricing dataset with multiplier and price for each section once base av price is determined\n",
    "\n",
    "file_path = \"capital_one_seating_price - attempt2.csv\"  # Make sure this file is in the same directory\n",
    "df = pd.read_csv(file_path)\n",
    "\n",
    "# List of event columns to average over\n",
    "event_columns = ['Wizards', 'Theater resale', 'Deftones', 'Wizards 2', 'Capitals']\n",
    "\n",
    "# Calculate the average price per section across all events\n",
    "df['Section Avg'] = df[event_columns].mean(axis=1)\n",
    "\n",
    "# Calculate overall average to use for normalizing\n",
    "overall_avg = df['Section Avg'].mean()\n",
    "\n",
    "# Calculate multiplier for each section\n",
    "df['Multiplier'] = df['Section Avg'] / overall_avg\n",
    "\n",
    "# Function to get dynamic prices based on a base ticket price\n",
    "def get_dynamic_prices(base_price):\n",
    "    result = df[['Section', 'Multiplier']].copy()\n",
    "    result['DynamicPrice'] = (result['Multiplier'] * base_price).round(2)\n",
    "    return result\n",
    "\n",
    "# Example usage\n",
    "if __name__ == \"__main__\":\n",
    "    # Input: Set your base ticket price here\n",
    "    base_price = float(input(\"Enter average ticket price: $\"))\n",
    "    \n",
    "    dynamic_prices = get_dynamic_prices(base_price)\n",
    "    print(\"\\nDynamic Pricing by Section:\")\n",
    "    print(dynamic_prices)\n",
    "\n",
    "    # Optionally save to CSV\n",
    "    output_file = f\"dynamic_prices_${int(base_price)}.csv\"\n",
    "    dynamic_prices.to_csv(output_file, index=False)\n",
    "    print(f\"\\nSaved to {output_file}\")\n"
   ]
  },
  {
   "cell_type": "code",
   "execution_count": 22,
   "metadata": {},
   "outputs": [],
   "source": [
    "def calculate_total_revenue(base_price):\n",
    "    # Step 1: Recalculate multipliers\n",
    "    event_columns = ['Wizards', 'Theater resale', 'Deftones', 'Wizards 2', 'Capitals']\n",
    "    df[event_columns] = df[event_columns].apply(pd.to_numeric, errors='coerce')\n",
    "    df['Section Avg'] = df[event_columns].mean(axis=1)\n",
    "    overall_avg = df['Section Avg'].mean()\n",
    "    df['Multiplier'] = df['Section Avg'] / overall_avg\n",
    "\n",
    "    # Step 2: Calculate dynamic price for each section\n",
    "    df['Dynamic Price'] = df['Multiplier'] * base_price\n",
    "\n",
    "    # Step 3: Clean up Min Seats\n",
    "    df['Min Seats'] = pd.to_numeric(df['Min Seats'], errors='coerce')\n",
    "\n",
    "    # Step 4: Calculate revenue per section\n",
    "    df['Section Revenue'] = df['Dynamic Price'] * df['Min Seats']\n",
    "\n",
    "    # Step 5: Sum it all\n",
    "    total_revenue = df['Section Revenue'].sum()\n",
    "\n",
    "    return round(total_revenue, 2)\n"
   ]
  },
  {
   "cell_type": "code",
   "execution_count": 24,
   "metadata": {},
   "outputs": [
    {
     "name": "stdout",
     "output_type": "stream",
     "text": [
      "\n",
      "Estimated Total Revenue from Ticket Sales for A Packed Venue: $3,268,208.29\n",
      "\n",
      "Estimated Total Revenue from Ticket Sales for a Concert Venue (3/4 sections available): $2,451,156.22\n"
     ]
    }
   ],
   "source": [
    "base_price = float(input(\"Enter average ticket price: $\"))\n",
    "revenue = calculate_total_revenue(base_price)\n",
    "print(f\"\\nEstimated Total Revenue from Ticket Sales for A Packed Venue: ${revenue:,.2f}\")\n",
    "print(f\"\\nEstimated Total Revenue from Ticket Sales for a Concert Venue (3/4 sections available): ${revenue*.75:,.2f}\")\n",
    "\n"
   ]
  }
 ],
 "metadata": {
  "kernelspec": {
   "display_name": "Python 3",
   "language": "python",
   "name": "python3"
  },
  "language_info": {
   "codemirror_mode": {
    "name": "ipython",
    "version": 3
   },
   "file_extension": ".py",
   "mimetype": "text/x-python",
   "name": "python",
   "nbconvert_exporter": "python",
   "pygments_lexer": "ipython3",
   "version": "3.12.6"
  }
 },
 "nbformat": 4,
 "nbformat_minor": 2
}
